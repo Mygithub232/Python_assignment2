{
 "cells": [
  {
   "cell_type": "code",
   "execution_count": null,
   "metadata": {},
   "outputs": [],
   "source": [
    "1.What are the two values of the Boolean data type? How do you write them?\n",
    "True\n",
    "False"
   ]
  },
  {
   "cell_type": "code",
   "execution_count": null,
   "metadata": {},
   "outputs": [],
   "source": [
    "2. What are the three different types of Boolean operators?\n",
    "\n",
    "  The three basic boolean operators are: AND, OR, and NOT. "
   ]
  },
  {
   "cell_type": "code",
   "execution_count": null,
   "metadata": {},
   "outputs": [],
   "source": []
  },
  {
   "cell_type": "code",
   "execution_count": null,
   "metadata": {},
   "outputs": [],
   "source": [
    "3. Make a list of each Boolean operator truth tables (i.e. every possible combination of Boolean\n",
    "values for the operator and what it evaluate ).\n",
    "\n",
    "\n",
    "AND :\n",
    "     a         b       a AND b\n",
    "    False(0) False(0)  False(0)\n",
    "    False(0) Truth(1)  False(0)\n",
    "    Truth(1) False(0)  False(0)\n",
    "    Truth(1) Truth(1)  Truth(1)\n",
    "    \n",
    "OR \n",
    "      a         b       a OR b\n",
    "    False(0) False(0)  False(0)\n",
    "    False(0) Truth(1)  Truth(1)\n",
    "    Truth(1) False(0)  Truth(1)\n",
    "    Truth(1) Truth(1)  Truth(1)\n",
    "    \n",
    "    \n",
    "NOT\n",
    "      a           NOT(a)\n",
    "    False(0)      True(1)        b             NOT(b)\n",
    "                               True(1)       False(0)\n",
    "       "
   ]
  },
  {
   "cell_type": "code",
   "execution_count": null,
   "metadata": {},
   "outputs": [],
   "source": [
    "4. What are the values of the following expressions?\n",
    "\n",
    "(5 > 4) and (3 == 5) --------------------- False\n",
    "\n",
    "not (5 > 4)   -------------------------    False\n",
    "(5 > 4) or (3 == 5) ------------------------True\n",
    "not ((5 > 4) or (3 == 5)) ------------------False\n",
    "(True and True) and (True == False) --------False\n",
    "(not False) or (not True) ------------------True"
   ]
  },
  {
   "cell_type": "code",
   "execution_count": null,
   "metadata": {},
   "outputs": [],
   "source": [
    "5. What are the six comparison operators?\n",
    "\n",
    "=\n",
    ">\n",
    "<\n",
    ">=\n",
    "<=\n",
    "<> or !="
   ]
  },
  {
   "cell_type": "code",
   "execution_count": null,
   "metadata": {},
   "outputs": [],
   "source": [
    "6. How do you tell the difference between the equal to and assignment operators?Describe a condition and when you would use one.\n",
    "\n",
    "== compares value of left and side expressions,\n",
    "return 1 if they are equal\n",
    "other wise it will return 0. \n",
    "Let's understand by example:\n",
    "x,y = 10,20\n",
    "if(x==y):\n",
    "    printf(\"True\")\n",
    "else:\n",
    "    printf(\"False\")\n",
    "\n",
    "When expression x==y evaluates, it will return 1 (it means condition is TRUE) and \"TRUE\" will print."
   ]
  },
  {
   "cell_type": "code",
   "execution_count": null,
   "metadata": {},
   "outputs": [],
   "source": [
    "7. Identify the three blocks in this code:\n",
    "spam = 0\n",
    "if spam == 10:\n",
    "print('eggs')       ----> If Block\n",
    "if spam > 5:\n",
    "print('bacon')      ----> another If Block\n",
    "else:\n",
    "print('ham')\n",
    "print('spam')       -----> Else Block\n",
    "print('spam')\n",
    "\n",
    "\n",
    "\n"
   ]
  },
  {
   "cell_type": "code",
   "execution_count": null,
   "metadata": {},
   "outputs": [],
   "source": [
    "8. Write code that prints Hello if 1 is stored in spam, prints Howdy if 2 is stored in spam, and prints Greetings! if anything else is stored in spam.\n",
    "\n",
    "\n",
    "spam = 1\n",
    "\n",
    "if spam == 1:\n",
    "    print('Hello')\n",
    "elif spam == 2:\n",
    "    print('Howdy')\n",
    "else:\n",
    "    print('Greetings!')\n"
   ]
  },
  {
   "cell_type": "code",
   "execution_count": null,
   "metadata": {},
   "outputs": [],
   "source": [
    "9.If your programme is stuck in an endless loop, what keys you’ll press?\n",
    "\n",
    "press CTRL + C"
   ]
  },
  {
   "cell_type": "code",
   "execution_count": null,
   "metadata": {},
   "outputs": [],
   "source": [
    "10. How can you tell the difference between break and continue?\n",
    "\n",
    "break :  break stops the continuation of the loop and returns the output\n",
    "\n",
    "Continue : continue do not stop the continuation of the loop, it only stops any operation which exists after continue statement in current iteration \n",
    "    "
   ]
  },
  {
   "cell_type": "code",
   "execution_count": null,
   "metadata": {},
   "outputs": [],
   "source": [
    "11. In a for loop, what is the difference between range(10), range(0, 10), and range(0, 10, 1)?\n",
    "\n",
    "ans : There is no difference numeric digits 0,1,2,3,4,5,6,7,8,9 will be getting generated in for loop for all three above"
   ]
  },
  {
   "cell_type": "code",
   "execution_count": null,
   "metadata": {},
   "outputs": [],
   "source": [
    "12. Write a short program that prints the numbers 1 to 10 using a for loop. Then write an equivalent program that prints the numbers 1 to 10 using a while loop.\n",
    "\n",
    "Step -- 1:\n",
    "\n",
    "Using For loop:\n",
    "\n",
    "for i in range(10):\n",
    "    print(i+1)\n",
    "    \n",
    "\n",
    "Using While Loop :\n",
    "\n",
    "i = 1\n",
    "while i <= 10:\n",
    "    print(i)\n",
    "    i = i+1"
   ]
  },
  {
   "cell_type": "code",
   "execution_count": null,
   "metadata": {},
   "outputs": [],
   "source": [
    "13. If you had a function named bacon() inside a module named spam, how would you call it after importing spam?\n",
    "\n",
    "spam.bacon()"
   ]
  }
 ],
 "metadata": {
  "kernelspec": {
   "display_name": "Python 3",
   "language": "python",
   "name": "python3"
  },
  "language_info": {
   "codemirror_mode": {
    "name": "ipython",
    "version": 3
   },
   "file_extension": ".py",
   "mimetype": "text/x-python",
   "name": "python",
   "nbconvert_exporter": "python",
   "pygments_lexer": "ipython3",
   "version": "3.8.5"
  }
 },
 "nbformat": 4,
 "nbformat_minor": 4
}
